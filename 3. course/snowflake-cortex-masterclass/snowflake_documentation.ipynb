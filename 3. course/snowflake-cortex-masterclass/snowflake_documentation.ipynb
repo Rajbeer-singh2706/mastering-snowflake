{
 "cells": [
  {
   "cell_type": "code",
   "execution_count": null,
   "metadata": {},
   "outputs": [],
   "source": [
    "# Section 1: \n",
    "# 6. Roadmap to snowflake Cortex\n",
    "# 7. SQL Query without Typing SQL\n",
    "# 9. snowflake CORTEX\n",
    "'''\n",
    "- Snowpark ML \n",
    "- ML-powered Functions\n",
    "- LLM Functions\n",
    "\n",
    "#1. Snowpark ML APIS \n",
    " - Modelling \n",
    " - Operations ( MLOps)\n",
    " - Data Access \n",
    "\n",
    "#2. ML-Powered Functions and Classes \n",
    " - Time-Series Forecasting\n",
    " - Anomaly Detection\n",
    " - Classification\n",
    " - Contribution Explorer\n",
    "\n",
    "#3. LLM Functions \n",
    "  - COMPLETE\n",
    "  - EXTRACT_ANSWER\n",
    "  - SENTIMENT\n",
    "  - SUMMARIZE\n",
    "  - TRANSLATE\n",
    "\n",
    "#4. LLM UI Extension \n",
    "   - Snowflake Copilot \n",
    "   - Universal Search\n",
    "   - Document AI\n",
    "'''"
   ]
  }
 ],
 "metadata": {
  "language_info": {
   "name": "python"
  }
 },
 "nbformat": 4,
 "nbformat_minor": 2
}
