{
 "cells": [
  {
   "cell_type": "code",
   "execution_count": null,
   "metadata": {},
   "outputs": [],
   "source": [
    "# Section 9: PENDING "
   ]
  },
  {
   "cell_type": "code",
   "execution_count": null,
   "metadata": {},
   "outputs": [],
   "source": []
  },
  {
   "cell_type": "code",
   "execution_count": null,
   "metadata": {},
   "outputs": [],
   "source": [
    "# Section 10: Streamlist Web applications\n",
    "# 73. Section Summary (app folder)\n",
    "'''\n",
    " 1. Introduction to streamlit\n",
    " 2. Layout Components\n",
    " 3. Interative Widgets\n",
    " 4. State and Callbacks\n",
    " 5. Data Cache\n",
    " 6. Multi-Page Applications\n",
    " 7. Test as Local Web App\n",
    " 8. Deploy and share as web App\n",
    "'''"
   ]
  },
  {
   "cell_type": "code",
   "execution_count": null,
   "metadata": {},
   "outputs": [],
   "source": [
    "# 74. HandsOn: Create Your first Streamlist Web App\n",
    "'''\n",
    " cd app/\n",
    "'''\n",
    "# 75. Add Functionality with Streamlist Tab Control \n",
    "# 76. REview: Introduction to Streamlit\n",
    "'''\n",
    "'''\n",
    "print(\"IN-PGRORESS\")"
   ]
  },
  {
   "cell_type": "code",
   "execution_count": 1,
   "metadata": {},
   "outputs": [
    {
     "data": {
      "text/plain": [
       "''"
      ]
     },
     "execution_count": 1,
     "metadata": {},
     "output_type": "execute_result"
    }
   ],
   "source": [
    "# 77. Review : Streamlit Layot Components and Interactive Widgets\n",
    "'''\n",
    " 1. Layout Components\n",
    " 2. Interactive Widgets\n",
    " 3. Buttons \n",
    "'''"
   ]
  },
  {
   "cell_type": "code",
   "execution_count": null,
   "metadata": {},
   "outputs": [],
   "source": [
    "# 78. Cache Streamlit Data \n",
    "# 79. Review : Streamlit session and Data Caching "
   ]
  },
  {
   "cell_type": "code",
   "execution_count": 1,
   "metadata": {},
   "outputs": [
    {
     "data": {
      "text/plain": [
       "'\\n \\n'"
      ]
     },
     "execution_count": 1,
     "metadata": {},
     "output_type": "execute_result"
    }
   ],
   "source": [
    "# 80. Hands on : Deploy and share a web app in Streamlit Cloud \n",
    "'''\n",
    " \n",
    "'''\n",
    "# 81. Review : Deploying a web app in Streamlit Cloud "
   ]
  },
  {
   "cell_type": "code",
   "execution_count": 2,
   "metadata": {},
   "outputs": [
    {
     "data": {
      "text/plain": [
       "'\\n'"
      ]
     },
     "execution_count": 2,
     "metadata": {},
     "output_type": "execute_result"
    }
   ],
   "source": [
    "# Section 11: Client Programing with SNOWFLAKE \n",
    "'''\n",
    "  - SnowCD( Connectivity Dianostic)\n",
    "  - SNOWSQL(Snowflake CLI)\n",
    "  - VISUAL Studio Code Extension\n",
    "  - Client Drivers \n",
    "  - Client-Side vs Server-Side Cursors\n",
    "  - Snowflake Connector for Python\n",
    "  - Connecting to Snowflake\n",
    "'''\n"
   ]
  },
  {
   "cell_type": "code",
   "execution_count": 1,
   "metadata": {},
   "outputs": [
    {
     "data": {
      "text/plain": [
       "'\\n 1. Install snowcd \\n snowcd allowdlist.json \\n\\n 2. Install snowsql \\n $ brew install --cask snowflake-snowsql\\n \\n'"
      ]
     },
     "execution_count": 1,
     "metadata": {},
     "output_type": "execute_result"
    }
   ],
   "source": [
    "# 83. Install Snowflkae Tools and Utilities \n",
    "'''\n",
    " 1. Install snowcd \n",
    " snowcd allowdlist.json \n",
    "\n",
    " 2. Install snowsql \n",
    " $ brew install --cask snowflake-snowsql\n",
    " \n",
    "'''\n",
    "# 84. Review: Snowflake Tools and Utilities "
   ]
  },
  {
   "cell_type": "code",
   "execution_count": 2,
   "metadata": {},
   "outputs": [],
   "source": [
    "# 85. Connect to Snowflake from a PYTHON\n",
    "# 88. ReviewL Snowflake connector for python"
   ]
  },
  {
   "cell_type": "code",
   "execution_count": null,
   "metadata": {},
   "outputs": [],
   "source": [
    "# 89. COnnect the hierachiclal Data viewer to snowflake "
   ]
  }
 ],
 "metadata": {
  "kernelspec": {
   "display_name": "myenv",
   "language": "python",
   "name": "python3"
  },
  "language_info": {
   "codemirror_mode": {
    "name": "ipython",
    "version": 3
   },
   "file_extension": ".py",
   "mimetype": "text/x-python",
   "name": "python",
   "nbconvert_exporter": "python",
   "pygments_lexer": "ipython3",
   "version": "3.9.6"
  }
 },
 "nbformat": 4,
 "nbformat_minor": 2
}
