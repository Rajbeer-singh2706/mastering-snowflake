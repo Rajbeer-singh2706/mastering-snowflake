{
 "cells": [
  {
   "cell_type": "code",
   "execution_count": null,
   "metadata": {},
   "outputs": [],
   "source": [
    "### CONNECTION TEST\n",
    "import os\n",
    "import snowflake.snowpark.functions\n",
    "from snowflake.snowpark import Session\n",
    "from snowflake.snowpark.functions import col\n",
    "\n",
    "\n",
    "import os\n",
    "import snowflake.snowpark.functions \n",
    "\n",
    "connection_parameters = {\n",
    "    \"account\":\"kp41433.ap-southeast-1\",\n",
    "    \"user\":\"pavan\",\n",
    "    \"password\": \"Abc123123\",\n",
    "    \"role\":\"ACCOUNTADMIN\",\n",
    "    \"warehouse\":\"COMPUTE_WH\",\n",
    "    \"database\":\"DEMO_DB\",\n",
    "    \"schema\":\"PUBLIC\"\n",
    "}\n",
    "\n",
    "test_session = Session.builder.configs(connection_parameters).create()\n",
    "print(test_session.sql(\"select current_warehouse(), current_database(), current_schema()\").collect())\n",
    "\n",
    "session = Session.builder.configs(connection_parameters).create()"
   ]
  },
  {
   "cell_type": "markdown",
   "metadata": {},
   "source": []
  }
 ],
 "metadata": {
  "kernelspec": {
   "display_name": "upgrad_env",
   "language": "python",
   "name": "python3"
  },
  "language_info": {
   "name": "python",
   "version": "3.9.6"
  }
 },
 "nbformat": 4,
 "nbformat_minor": 2
}
