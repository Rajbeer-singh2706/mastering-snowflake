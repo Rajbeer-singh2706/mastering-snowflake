{
 "cells": [
  {
   "cell_type": "markdown",
   "metadata": {},
   "source": [
    "# **1. Section1: Introduction**"
   ]
  },
  {
   "cell_type": "code",
   "execution_count": null,
   "metadata": {},
   "outputs": [],
   "source": [
    "### CONNECTION TEST\n",
    "import os\n",
    "from snowflake.snowpark import Session\n",
    "from snowflake.snowpark.functions import col\n",
    "\n",
    "\n",
    "connection_parameters = {\n",
    "    \"account\":\"kp41433.ap-southeast-1\",\n",
    "    \"user\":\"pavan\",\n",
    "    \"password\": \"Abc123123\",\n",
    "    \"role\":\"ACCOUNTADMIN\",\n",
    "    \"warehouse\":\"COMPUTE_WH\",\n",
    "    \"database\":\"DEMO_DB\",\n",
    "    \"schema\":\"PUBLIC\"\n",
    "}\n",
    "\n",
    "test_session = Session.builder.configs(connection_parameters).create()\n",
    "print(test_session.sql(\"select current_warehouse(), current_database(), current_schema()\").collect())\n",
    "\n",
    "session = Session.builder.configs(connection_parameters).create()"
   ]
  },
  {
   "cell_type": "markdown",
   "metadata": {},
   "source": [
    "## 2. Test Connection\n",
    "* Python 3.8\n",
    "* Install snowpark \n",
    "* VS CODE\n",
    "* https://docs.snowflake.com/en/developer-guide/snowpark/python/setup"
   ]
  },
  {
   "cell_type": "code",
   "execution_count": null,
   "metadata": {},
   "outputs": [],
   "source": [
    "## 3. Snowpark-demo part1\n",
    "import os\n",
    "from snowflake.snowpark import Session\n",
    "from snowflake.snowpark.functions import col\n",
    "\n",
    "connection_parameters = {}\n",
    "\n",
    "session = Session.builder.configs(connection_parameters).create()\n",
    "session.sql(\"USE  WAREHOUSE COMPUTE_WH\").collect()\n",
    "\n",
    "df_customer_info = session.table(\"SNOWFLAKE_SAMPLE_DATA.TPCH_SF1.CUSTOMER\")\n",
    "df_customer_filter = df_customer_info.filter(col(\"C_MKTSEGMENT\") == 'HOUSEHOLD')\n",
    "df_customer_select = df_customer_info.select(col(\"C_NAME\"), col(\"C_ADDRESS\"))\n",
    "df_customer_select.show()\n",
    "df_customer_select.count()\n",
    "\n",
    "## ** Check the Query Result\n",
    "## Check in Monitroing Section  => Query History\n",
    "## IN the Packages section => snowflake-snowpark-python, latest , ADD AND SAVE IT "
   ]
  },
  {
   "cell_type": "code",
   "execution_count": null,
   "metadata": {},
   "outputs": [],
   "source": [
    "# Create Notebook \n",
    "'''\n",
    "    * name: Course2_section1\n",
    "    * Notebook_location : OUR_FIRST_DB , PUBLIC \n",
    "    * NOTEBOOK_WAREHOUSE : COMPUTE_WH \n",
    "    * PYTHON ENVRIONMENT: RUn on Warehouse \n",
    "'''\n",
    "\n",
    "\n",
    "# Default Code: CMD1  \n",
    "\n",
    "# Import python packages\n",
    "import streamlit as st\n",
    "import pandas as pd\n",
    "\n",
    "# We can also use Snowpark for our analyses!\n",
    "from snowflake.snowpark.context import get_active_session\n",
    "session = get_active_session()\n",
    "\n",
    "\n",
    "# Default Code: CMD2 \n",
    "\n",
    "'''\n",
    "-- Welcome to Snowflake Notebooks!\n",
    "-- Try out a SQL cell to generate some data.\n",
    "\n",
    "SELECT 'FRIDAY' as SNOWDAY, 0.2 as CHANCE_OF_SNOW\n",
    "UNION ALL\n",
    "SELECT 'SATURDAY',0.5\n",
    "UNION ALL \n",
    "SELECT 'SUNDAY', 0.9;\n",
    "\n",
    "'''\n",
    "\n",
    "\n",
    "### CMD 3\n",
    "# Then, we can use the python name to turn cell2 into a Pandas dataframe\n",
    "my_df = cell2.to_pandas()\n",
    "\n",
    "# Chart the data\n",
    "st.subheader(\"Chance of SNOW ❄️\")\n",
    "st.line_chart(my_df, x='SNOWDAY', y='CHANCE_OF_SNOW')\n",
    "\n",
    "# Give it a go!\n",
    "st.subheader(\"Try it out yourself and show off your skills 🥇\")"
   ]
  },
  {
   "cell_type": "code",
   "execution_count": null,
   "metadata": {},
   "outputs": [],
   "source": [
    "## 4. Snowpark-demo part2\n",
    "# IN Python CLI => df_customer_info.<HIT _TAB>\n",
    "\n",
    "df_customer_select.describe().sort('SUMMARY').show()\n",
    "\n",
    "\n",
    "# Check Query which is generated/Formed in Snowflake UI  => COpy the Query , paste in worksheet => format it "
   ]
  }
 ],
 "metadata": {
  "kernelspec": {
   "display_name": "upgrad_env",
   "language": "python",
   "name": "python3"
  },
  "language_info": {
   "name": "python",
   "version": "3.9.6"
  }
 },
 "nbformat": 4,
 "nbformat_minor": 2
}
