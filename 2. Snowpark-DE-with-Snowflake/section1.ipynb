{
 "cells": [
  {
   "cell_type": "markdown",
   "metadata": {},
   "source": [
    "# **1. Section1: Introduction**"
   ]
  },
  {
   "cell_type": "code",
   "execution_count": null,
   "metadata": {},
   "outputs": [],
   "source": [
    "### CONNECTION TEST\n",
    "import os\n",
    "from snowflake.snowpark import Session\n",
    "from snowflake.snowpark.functions import col\n",
    "\n",
    "\n",
    "connection_parameters = {\n",
    "    \"account\":\"kp41433.ap-southeast-1\",\n",
    "    \"user\":\"pavan\",\n",
    "    \"password\": \"Abc123123\",\n",
    "    \"role\":\"ACCOUNTADMIN\",\n",
    "    \"warehouse\":\"COMPUTE_WH\",\n",
    "    \"database\":\"DEMO_DB\",\n",
    "    \"schema\":\"PUBLIC\"\n",
    "}\n",
    "\n",
    "test_session = Session.builder.configs(connection_parameters).create()\n",
    "print(test_session.sql(\"select current_warehouse(), current_database(), current_schema()\").collect())\n",
    "\n",
    "session = Session.builder.configs(connection_parameters).create()"
   ]
  },
  {
   "cell_type": "markdown",
   "metadata": {},
   "source": [
    "## 2. Test Connection\n",
    "* Python 3.8\n",
    "* Install snowpark \n",
    "* VS CODE"
   ]
  },
  {
   "cell_type": "code",
   "execution_count": null,
   "metadata": {},
   "outputs": [],
   "source": [
    "## 3. Snowpark-demo part1\n",
    "import os\n",
    "from snowflake.snowpark import Session\n",
    "from snowflake.snowpark.functions import col\n",
    "\n",
    "connection_parameters = {}\n",
    "\n",
    "session = Session.builder.configs(connection_parameters).create()\n",
    "session.sql(\"USE  WAREHOUSE COMPUTE_WH\").collect()\n",
    "\n",
    "df_customer_info = session.table(\"SNOWFLAKE_SAMPLE_DATA.TPCH_SF1.CUSTOMER\")\n",
    "df_customer_filter = df_customer_info.filter(col(\"C_MKTSEGMENT\") == 'HOUSEHOLD')\n",
    "df_customer_select = df_customer_info.select(col(\"C_NAME\"), col(\"C_ADDRESS\"))\n",
    "df_customer_select.show()\n",
    "df_customer_select.count()\n",
    "\n",
    "## ** Check the Query Result"
   ]
  },
  {
   "cell_type": "code",
   "execution_count": null,
   "metadata": {},
   "outputs": [],
   "source": [
    "## 4. Snowpark-demo part2\n",
    "# IN Python CLI => df_customer_info.<HIT _TAB>\n",
    "\n",
    "df_customer_select.describe().sort('SUMMARY').show()\n",
    "\n",
    "\n",
    "# Check Query which is generated/Formed in Snowflake UI  => COpy the Query , paste in worksheet => format it "
   ]
  }
 ],
 "metadata": {
  "kernelspec": {
   "display_name": "upgrad_env",
   "language": "python",
   "name": "python3"
  },
  "language_info": {
   "name": "python",
   "version": "3.9.6"
  }
 },
 "nbformat": 4,
 "nbformat_minor": 2
}
