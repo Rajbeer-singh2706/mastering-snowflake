{
 "cells": [
  {
   "cell_type": "markdown",
   "metadata": {},
   "source": [
    "### snowflake-masterclass\n"
   ]
  },
  {
   "cell_type": "markdown",
   "metadata": {},
   "source": []
  },
  {
   "cell_type": "markdown",
   "metadata": {},
   "source": [
    "## Section 2:: PENDING "
   ]
  },
  {
   "cell_type": "code",
   "execution_count": null,
   "metadata": {},
   "outputs": [],
   "source": [
    "# 7. Getting to know the interface \n",
    "'''\n",
    " Worksheet where you can write all sql code\n",
    "\n",
    "* By default it would be available , so below code is not required to execute \n",
    "\n",
    " -- Create a database from the share.\n",
    "create database snowflake_sample_data from share sfc_samples.sample_data;\n",
    "\n",
    "-- Grant the PUBLIC role access to the database.\n",
    "-- Optionally change the role name to restrict access to a subset of users.\n",
    "grant imported privileges on database snowflake_sample_data to role public;\n",
    "\n",
    "'''\n",
    "\n",
    "# 11. loading data "
   ]
  },
  {
   "cell_type": "markdown",
   "metadata": {},
   "source": []
  }
 ],
 "metadata": {
  "kernelspec": {
   "display_name": "upgrad_env",
   "language": "python",
   "name": "python3"
  },
  "language_info": {
   "name": "python",
   "version": "3.9.6"
  }
 },
 "nbformat": 4,
 "nbformat_minor": 2
}
