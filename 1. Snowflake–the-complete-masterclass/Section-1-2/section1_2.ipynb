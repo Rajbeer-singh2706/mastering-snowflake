{
 "cells": [
  {
   "cell_type": "markdown",
   "metadata": {},
   "source": [
    "### snowflake-masterclass\n"
   ]
  },
  {
   "cell_type": "markdown",
   "metadata": {},
   "source": []
  },
  {
   "cell_type": "markdown",
   "metadata": {},
   "source": [
    "## Section 2:: PENDING"
   ]
  },
  {
   "cell_type": "code",
   "execution_count": null,
   "metadata": {},
   "outputs": [],
   "source": [
    "# 7. Getting to know the interface \n",
    "'''\n",
    " Worksheet where you can write all sql code\n",
    "\n",
    "* By default it would be available , so below code is not required to execute \n",
    "\n",
    " -- Create a database from the share.\n",
    "create database snowflake_sample_data from share sfc_samples.sample_data;\n",
    "\n",
    "-- Grant the PUBLIC role access to the database.\n",
    "-- Optionally change the role name to restrict access to a subset of users.\n",
    "grant imported privileges on database snowflake_sample_data to role public;\n",
    "\n",
    "'''\n",
    "\n",
    "# 11. loading data "
   ]
  },
  {
   "cell_type": "markdown",
   "metadata": {},
   "source": []
  },
  {
   "cell_type": "code",
   "execution_count": null,
   "metadata": {},
   "outputs": [],
   "source": [
    "# Loading Data \n",
    "#//Creating the table / Meta data\n",
    "\n",
    "'''\n",
    "create DATABASE OUR_FIRST_DB;\n",
    "\n",
    "CREATE TABLE \"OUR_FIRST_DB\".\"PUBLIC\".\"LOAN_PAYMENT\" (\n",
    "  \"Loan_ID\" STRING,\n",
    "  \"loan_status\" STRING,\n",
    "  \"Principal\" STRING,\n",
    "  \"terms\" STRING,\n",
    "  \"effective_date\" STRING,\n",
    "  \"due_date\" STRING,\n",
    "  \"paid_off_time\" STRING,\n",
    "  \"past_due_days\" STRING,\n",
    "  \"age\" STRING,\n",
    "  \"education\" STRING,\n",
    "  \"Gender\" STRING\n",
    "  );\n",
    "  \n",
    "  \n",
    " //Check that table is empy\n",
    " USE DATABASE OUR_FIRST_DB;\n",
    "\n",
    " SELECT * FROM LOAN_PAYMENT;\n",
    "\n",
    " \n",
    " //Loading the data from S3 bucket\n",
    "  \n",
    " COPY INTO LOAN_PAYMENT\n",
    "    FROM s3://bucketsnowflakes3/Loan_payments_data.csv\n",
    "    file_format = (type = csv \n",
    "                   field_delimiter = ',' \n",
    "                   skip_header=1);\n",
    "    \n",
    "\n",
    "//Validate\n",
    " SELECT * FROM LOAN_PAYMENT;\n",
    "\n",
    " -- No compute invocled \n",
    " select count(*) from LOAN_PAYMENT;\n",
    " select *  from LOAN_PAYMENT;\n",
    "\n",
    " -- Compute invoved  \n",
    " select max(\"age\") from LOAN_PAYMENT;\n",
    "\n",
    " '''"
   ]
  }
 ],
 "metadata": {
  "kernelspec": {
   "display_name": "upgrad_env",
   "language": "python",
   "name": "python3"
  },
  "language_info": {
   "name": "python",
   "version": "3.9.6"
  }
 },
 "nbformat": 4,
 "nbformat_minor": 2
}
