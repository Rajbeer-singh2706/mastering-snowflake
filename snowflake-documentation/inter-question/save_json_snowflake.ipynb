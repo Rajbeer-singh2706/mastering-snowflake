{
 "cells": [
  {
   "cell_type": "code",
   "execution_count": null,
   "metadata": {},
   "outputs": [],
   "source": [
    "!pip install snowflake-connector-python pandas"
   ]
  },
  {
   "cell_type": "code",
   "execution_count": 1,
   "metadata": {},
   "outputs": [
    {
     "ename": "ModuleNotFoundError",
     "evalue": "No module named 'snowflake'",
     "output_type": "error",
     "traceback": [
      "\u001b[0;31m---------------------------------------------------------------------------\u001b[0m",
      "\u001b[0;31mModuleNotFoundError\u001b[0m                       Traceback (most recent call last)",
      "Cell \u001b[0;32mIn[1], line 2\u001b[0m\n\u001b[1;32m      1\u001b[0m \u001b[38;5;28;01mimport\u001b[39;00m \u001b[38;5;21;01mpandas\u001b[39;00m \u001b[38;5;28;01mas\u001b[39;00m \u001b[38;5;21;01mpd\u001b[39;00m \n\u001b[0;32m----> 2\u001b[0m \u001b[38;5;28;01mimport\u001b[39;00m \u001b[38;5;21;01msnowflake\u001b[39;00m\u001b[38;5;21;01m.\u001b[39;00m\u001b[38;5;21;01mconnector\u001b[39;00m\n",
      "\u001b[0;31mModuleNotFoundError\u001b[0m: No module named 'snowflake'"
     ]
    }
   ],
   "source": [
    "import pandas as pd \n",
    "import snowflake.connector"
   ]
  },
  {
   "cell_type": "code",
   "execution_count": 2,
   "metadata": {},
   "outputs": [],
   "source": [
    "# Snowflake connection details\n",
    "SNOWFLAKE_ACCOUNT = \"<your_account>.snowflakecomputing.com\"\n",
    "SNOWFLAKE_USER = \"<your_username>\"\n",
    "SNOWFLAKE_PASSWORD = \"<your_password>\"\n",
    "SNOWFLAKE_DATABASE = \"<your_database>\"\n",
    "SNOWFLAKE_SCHEMA = \"<your_schema>\"\n",
    "SNOWFLAKE_WAREHOUSE = \"<your_warehouse>\"\n",
    "SNOWFLAKE_TABLE = \"<your_table>\""
   ]
  },
  {
   "cell_type": "code",
   "execution_count": null,
   "metadata": {},
   "outputs": [],
   "source": [
    "# 1. Read JSON file into a Pandas DataFrame\n",
    "def read_json_file(file_path):\n",
    "    # Read JSON file\n",
    "    df = pd.read_json(file_path)\n",
    "    return df"
   ]
  },
  {
   "cell_type": "code",
   "execution_count": null,
   "metadata": {},
   "outputs": [],
   "source": []
  },
  {
   "cell_type": "code",
   "execution_count": null,
   "metadata": {},
   "outputs": [],
   "source": [
    "\n",
    "\n",
    "\n",
    "# 2. Save DataFrame to Snowflake\n",
    "def save_to_snowflake(df):\n",
    "    # Establish connection to Snowflake\n",
    "    conn = snowflake.connector.connect(\n",
    "        user=SNOWFLAKE_USER,\n",
    "        password=SNOWFLAKE_PASSWORD,\n",
    "        account=SNOWFLAKE_ACCOUNT,\n",
    "        warehouse=SNOWFLAKE_WAREHOUSE,\n",
    "        database=SNOWFLAKE_DATABASE,\n",
    "        schema=SNOWFLAKE_SCHEMA\n",
    "    )\n",
    "    cursor = conn.cursor()\n",
    "    \n",
    "    # Create a temporary staging table\n",
    "    cursor.execute(f\"CREATE OR REPLACE TABLE {SNOWFLAKE_TABLE} AS SELECT * FROM {SNOWFLAKE_TABLE} LIMIT 0\")\n",
    "    \n",
    "    # Write data into Snowflake using Pandas\n",
    "    from snowflake.connector.pandas_tools import write_pandas\n",
    "    success, nchunks, nrows, _ = write_pandas(conn, df, SNOWFLAKE_TABLE)\n",
    "\n",
    "    # Print summary of operation\n",
    "    print(f\"Data uploaded: {success}, Rows: {nrows}\")\n",
    "    \n",
    "    # Close connection\n",
    "    cursor.close()\n",
    "    conn.close()"
   ]
  },
  {
   "cell_type": "code",
   "execution_count": null,
   "metadata": {},
   "outputs": [],
   "source": [
    "\n",
    "\n",
    "# 3. Main Execution\n",
    "if __name__ == \"__main__\":\n",
    "    # Path to JSON file\n",
    "    file_path = \"data.json\"  # Replace with your JSON file path\n",
    "\n",
    "    # Read JSON file\n",
    "    data_frame = read_json_file(file_path)\n",
    "    print(\"DataFrame Preview:\")\n",
    "    print(data_frame.head())\n",
    "\n",
    "    # Save DataFrame to Snowflake\n",
    "    save_to_snowflake(data_frame)\n"
   ]
  }
 ],
 "metadata": {
  "kernelspec": {
   "display_name": "upgrad_env",
   "language": "python",
   "name": "python3"
  },
  "language_info": {
   "codemirror_mode": {
    "name": "ipython",
    "version": 3
   },
   "file_extension": ".py",
   "mimetype": "text/x-python",
   "name": "python",
   "nbconvert_exporter": "python",
   "pygments_lexer": "ipython3",
   "version": "3.9.6"
  }
 },
 "nbformat": 4,
 "nbformat_minor": 2
}
