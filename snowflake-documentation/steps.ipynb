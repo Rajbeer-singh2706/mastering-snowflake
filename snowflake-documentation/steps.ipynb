{
 "cells": [
  {
   "cell_type": "code",
   "execution_count": null,
   "metadata": {},
   "outputs": [],
   "source": []
  },
  {
   "cell_type": "code",
   "execution_count": null,
   "metadata": {},
   "outputs": [],
   "source": [
    "'''\n",
    "CREATE DATABASE IF NOT EXISTS cortex_search_tutorial_db;\n",
    "\n",
    "CREATE OR REPLACE WAREHOUSE cortex_search_tutorial_wh WITH\n",
    "     WAREHOUSE_SIZE='X-SMALL'\n",
    "     AUTO_SUSPEND = 120\n",
    "     AUTO_RESUME = TRUE\n",
    "     INITIALLY_SUSPENDED=TRUE;\n",
    "     \n",
    "'''"
   ]
  }
 ],
 "metadata": {
  "language_info": {
   "name": "python"
  }
 },
 "nbformat": 4,
 "nbformat_minor": 2
}
