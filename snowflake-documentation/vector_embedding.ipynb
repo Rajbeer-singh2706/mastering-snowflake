{
 "cells": [
  {
   "cell_type": "code",
   "execution_count": null,
   "metadata": {},
   "outputs": [],
   "source": [
    "# https://docs.snowflake.com/en/user-guide/snowflake-cortex/vector-embeddings"
   ]
  },
  {
   "cell_type": "code",
   "execution_count": 1,
   "metadata": {},
   "outputs": [
    {
     "data": {
      "text/plain": [
       "\"'\\n SELECT \\n   a, VECTOR_COSINE_SIMILARITY(a, [1,2,3]::VECTOR(FLOAT,3)) AS similarity\\n FROM vectors\\n ORDER BY similarity DESC\\n LIMIT 1;\\n\""
      ]
     },
     "execution_count": 1,
     "metadata": {},
     "output_type": "execute_result"
    }
   ],
   "source": [
    "'''\n",
    "create table vectors (\n",
    "    a VECTOR(float,3), \n",
    "    b VECTOR(float, 3)\n",
    ")\n",
    "\n",
    "insert into vectors SELECT [1.1,2.2,3]::VECTOR(FLOAT,3),SELECT [1,1,1]::VECTOR(FLOAT,3);\n",
    "insert into vectors SELECT [1,2.2,3]::VECTOR(FLOAT,3),SELECT [4,6,8]::VECTOR(FLOAT,3);\n",
    "\n",
    "\n",
    "-- Compute the pairwise inner product between columns a and b\n",
    "SELECT VECTOR_INNER_PRODUCT(a, b) FROM vectors;\n",
    "\n",
    "SELECT VECTOR_INNER_PRODUCT(a,b) FROM vectors;\n",
    "\n",
    "'''\n",
    "\n",
    "\n",
    "### \n",
    "''''\n",
    " SELECT \n",
    "   a, VECTOR_COSINE_SIMILARITY(a, [1,2,3]::VECTOR(FLOAT,3)) AS similarity\n",
    " FROM vectors\n",
    " ORDER BY similarity DESC\n",
    " LIMIT 1;\n",
    "'''"
   ]
  },
  {
   "cell_type": "code",
   "execution_count": null,
   "metadata": {},
   "outputs": [],
   "source": [
    "### Snowpark in PYTHOn \n",
    "\n",
    "from snowflake.snowpark import Session, Row\n",
    "session = ... # Set up session\n",
    "\n",
    "from snowflake.snowpark.types import VectorType, StructType, StructField\n",
    "from snowflake.snowpark.functions import col, lit, vector_l2_distance\n",
    "\n",
    "schema = StructType([StructField(\"vec\", VectorType(int, 3))])\n",
    "\n",
    "data = [Row([1, 2, 3]), Row([4, 5, 6]), Row([7, 8, 9])]\n",
    "\n",
    "df = session.create_dataframe(data, schema)\n",
    "\n",
    "df.select(\n",
    "    \"vec\",\n",
    "    vector_l2_distance(df.vec, lit([1, 2, 2]).cast(VectorType(int, 3))).as_(\"dist\"),\n",
    ").sort(\"dist\").limit(1).show()"
   ]
  },
  {
   "cell_type": "markdown",
   "metadata": {},
   "source": [
    "### **2. Create vector embeddings from text**"
   ]
  },
  {
   "cell_type": "markdown",
   "metadata": {},
   "source": []
  },
  {
   "cell_type": "code",
   "execution_count": null,
   "metadata": {},
   "outputs": [],
   "source": [
    "''''\n",
    "-- Create embedding vectors for wiki articles (only do once)\n",
    "ALTER TABLE wiki ADD COLUMN vec VECTOR(FLOAT, 768);\n",
    "UPDATE wiki SET vec = SNOWFLAKE.CORTEX.EMBED_TEXT_768('snowflake-arctic-embed-m', content);\n",
    "\n",
    "-- Embed incoming query\n",
    "SET query = 'in which year was Snowflake Computing founded?';\n",
    "CREATE OR REPLACE TABLE query_table (query_vec VECTOR(FLOAT, 768));\n",
    "INSERT INTO query_table SELECT SNOWFLAKE.CORTEX.EMBED_TEXT_768('snowflake-arctic-embed-m', $query);\n",
    "\n",
    "-- Do a semantic search to find the relevant wiki for the query\n",
    "WITH result AS (\n",
    "    SELECT\n",
    "        w.content,\n",
    "        $query AS query_text,\n",
    "        VECTOR_COSINE_SIMILARITY(w.vec, q.query_vec) AS similarity\n",
    "    FROM wiki w, query_table q\n",
    "    ORDER BY similarity DESC\n",
    "    LIMIT 1\n",
    ")\n",
    "\n",
    "-- Pass to large language model as context\n",
    "SELECT SNOWFLAKE.CORTEX.COMPLETE('mistral-7b',\n",
    "    CONCAT('Answer this question: ', query_text, ' using this text: ', content)) FROM result;\n",
    "'''"
   ]
  }
 ],
 "metadata": {
  "kernelspec": {
   "display_name": "upgrad_env",
   "language": "python",
   "name": "python3"
  },
  "language_info": {
   "codemirror_mode": {
    "name": "ipython",
    "version": 3
   },
   "file_extension": ".py",
   "mimetype": "text/x-python",
   "name": "python",
   "nbconvert_exporter": "python",
   "pygments_lexer": "ipython3",
   "version": "3.9.6"
  }
 },
 "nbformat": 4,
 "nbformat_minor": 2
}
