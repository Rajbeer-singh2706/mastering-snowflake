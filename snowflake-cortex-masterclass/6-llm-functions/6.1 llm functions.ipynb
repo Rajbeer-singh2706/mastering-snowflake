{
 "cells": [
  {
   "cell_type": "code",
   "execution_count": 1,
   "metadata": {},
   "outputs": [
    {
     "data": {
      "text/plain": [
       "'\\n - LLM Extension  \\n - Snowflake Copilot\\n - Document AI \\n'"
      ]
     },
     "execution_count": 1,
     "metadata": {},
     "output_type": "execute_result"
    }
   ],
   "source": [
    "# LLM Functions and Extension(IN CORTEX )\n",
    "'''\n",
    "  * LLM: Large Language Models \n",
    "'''\n",
    "# 162 ABout this section : DONE \n",
    "'''\n",
    " - LLM Extensions  \n",
    " - Snowflake Copilot\n",
    " - UNiversal Search\n",
    " - Document AI \n",
    " - DL (Deep Learning)\n",
    " - GenAI\n",
    " - LLMs\n",
    "'''"
   ]
  },
  {
   "cell_type": "code",
   "execution_count": null,
   "metadata": {},
   "outputs": [],
   "source": [
    "# 163: Quick Tips SENTIMENT LLM Function: DONE , Need to practise\n",
    "## set the context before \n",
    "## snowflake.cortex \n",
    "'''\n",
    "    select 'I feel great today' txt, sentiment(txt) as mood\n",
    "    UNION \n",
    "    select 'Hmm, I have a rather bad feeling about this' txt, sentiment(txt) as mood\n",
    "    UNION \n",
    "    select 'I don''t know, man' txt, sentiment(txt) as mood;\n",
    "''' \n",
    "\n",
    "###\n",
    "'''\n",
    "    select 'I feel great today' txt, snowflake.cortex.sentiment(txt) as mood\n",
    "    union \n",
    "    select 'Hmm, I have a rather bad feeling about this' txt, snowflake.cortex.sentiment(txt) as mood\n",
    "    union \n",
    "    select 'I don''t know, man' txt, snowflake.cortex.sentiment(txt) as mood\n",
    "'''"
   ]
  },
  {
   "cell_type": "code",
   "execution_count": 1,
   "metadata": {},
   "outputs": [
    {
     "data": {
      "text/plain": [
       "'\\n  - Dont jump to specialize \\n'"
      ]
     },
     "execution_count": 1,
     "metadata": {},
     "output_type": "execute_result"
    }
   ],
   "source": [
    "# 164: Introduction to LLM Function Overview : DONE \n",
    "'''\n",
    "# LLM : LARGE LANGUAGE MODEL \n",
    "# LLM Functions \n",
    " - COMPLETE = ~ generic openAI/ChatGPT completion API + can select model \n",
    " - EXTRACT_ANSWER = extract info from unstructre or semi-structured data \n",
    " - SENTIMENT = detect mood/tone of text\n",
    " - SUMMARIZE = automatically\n",
    " - TRANSLATE\n",
    "\n",
    "#Snowflake UI \n",
    "    * snowflake(DB) => FUNCTIONS ()all functios listed teher \n",
    "'''\n",
    "\n",
    "# 165: pending  \n",
    "'''\n",
    "set the context to snowflake.cortex , otherwise you need to provide fully qualified name\n",
    "'''  \n",
    "\n",
    "### Question: \n",
    "'''\n",
    "Q) What is RAG ?\n",
    "'''\n"
   ]
  },
  {
   "cell_type": "code",
   "execution_count": null,
   "metadata": {},
   "outputs": [],
   "source": [
    "# 166: Introduction to Data Science: Importan Milestone\n",
    "'''\n",
    "  * statistics \n",
    "  * English Query\n",
    "  * Data Mining\n",
    "  * Machine Learning\n",
    "  * Deep Learning \n",
    "  * Generative AI \n",
    "'''\n",
    "# 167: INtroduction to Data Science: Deep learning review\n",
    "# 168: INtroduction to Data Science: Generative AI review: DONE "
   ]
  },
  {
   "cell_type": "code",
   "execution_count": 2,
   "metadata": {},
   "outputs": [],
   "source": [
    "# 180. Access Rights to LLM Functions \n",
    "# "
   ]
  },
  {
   "cell_type": "code",
   "execution_count": null,
   "metadata": {},
   "outputs": [],
   "source": [
    "# LLM UI Extensions\n",
    "'''\n",
    " 1. snowflake CoPilot \n",
    " 2. Universal Search\n",
    " 3. Document AI \n",
    "'''"
   ]
  }
 ],
 "metadata": {
  "kernelspec": {
   "display_name": "myenv",
   "language": "python",
   "name": "python3"
  },
  "language_info": {
   "codemirror_mode": {
    "name": "ipython",
    "version": 3
   },
   "file_extension": ".py",
   "mimetype": "text/x-python",
   "name": "python",
   "nbconvert_exporter": "python",
   "pygments_lexer": "ipython3",
   "version": "3.9.6"
  }
 },
 "nbformat": 4,
 "nbformat_minor": 2
}
