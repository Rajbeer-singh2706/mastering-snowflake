{
 "cells": [
  {
   "cell_type": "code",
   "execution_count": 1,
   "metadata": {},
   "outputs": [
    {
     "data": {
      "text/plain": [
       "'\\n - LLM Extension  \\n - Snowflake Copilot\\n - Document AI \\n'"
      ]
     },
     "execution_count": 1,
     "metadata": {},
     "output_type": "execute_result"
    }
   ],
   "source": [
    "#\n",
    "# 162\n",
    "'''\n",
    " - LLM Extension  \n",
    " - Snowflake Copilot\n",
    " - Document AI \n",
    " - DL (deep Learning)\n",
    " - GenAI\n",
    " - LLMs\n",
    "'''"
   ]
  },
  {
   "cell_type": "code",
   "execution_count": null,
   "metadata": {},
   "outputs": [],
   "source": [
    "# 163: Quick Tips SENTIMENT LLM Function\n",
    "'''\n",
    "    select 'I feel great today' txt, snowflake.cortex.sentiment(txt) as mood\n",
    "    union \n",
    "    select 'Hmm, I have a rather bad feeling about this' txt, snowflake.cortex.sentiment(txt) as mood\n",
    "    union \n",
    "    select 'I don''t know, man' txt, snowflake.cortex.sentiment(txt) as mood\n",
    "'''"
   ]
  },
  {
   "cell_type": "code",
   "execution_count": 1,
   "metadata": {},
   "outputs": [
    {
     "data": {
      "text/plain": [
       "'\\n  - Dont jump to specialize \\n'"
      ]
     },
     "execution_count": 1,
     "metadata": {},
     "output_type": "execute_result"
    }
   ],
   "source": [
    "# 164: Introduction to LLM Functino Overview \n",
    "'''\n",
    "# LLM : LARGE LANGUGE MODEL \n",
    "# LLM Functions \n",
    " - COMPLETE \n",
    " - EXTRACT_ANSWER\n",
    " - SENTIMENT\n",
    " - SUMMARIZE \n",
    " - TRANSLATE\n",
    "'''\n",
    "# 165: hands on # DONE "
   ]
  },
  {
   "cell_type": "code",
   "execution_count": null,
   "metadata": {},
   "outputs": [],
   "source": [
    "# 166: Start"
   ]
  },
  {
   "cell_type": "code",
   "execution_count": 2,
   "metadata": {},
   "outputs": [],
   "source": [
    "# 180. Access Rights to LLM Functions \n",
    "# "
   ]
  },
  {
   "cell_type": "code",
   "execution_count": null,
   "metadata": {},
   "outputs": [],
   "source": [
    "# LLM UI Extensions\n",
    "'''\n",
    " 1. snowflake CoPilot \n",
    " 2. Universal Search\n",
    " 3. Document AI \n",
    "'''"
   ]
  }
 ],
 "metadata": {
  "kernelspec": {
   "display_name": "myenv",
   "language": "python",
   "name": "python3"
  },
  "language_info": {
   "codemirror_mode": {
    "name": "ipython",
    "version": 3
   },
   "file_extension": ".py",
   "mimetype": "text/x-python",
   "name": "python",
   "nbconvert_exporter": "python",
   "pygments_lexer": "ipython3",
   "version": "3.9.12"
  }
 },
 "nbformat": 4,
 "nbformat_minor": 2
}
