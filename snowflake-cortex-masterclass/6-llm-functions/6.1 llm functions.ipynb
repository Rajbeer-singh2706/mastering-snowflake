{
 "cells": [
  {
   "cell_type": "code",
   "execution_count": 1,
   "metadata": {},
   "outputs": [
    {
     "data": {
      "text/plain": [
       "'\\n - LLM Extension  \\n - Snowflake Copilot\\n - Document AI \\n'"
      ]
     },
     "execution_count": 1,
     "metadata": {},
     "output_type": "execute_result"
    }
   ],
   "source": [
    "#\n",
    "# 162\n",
    "'''\n",
    " - LLM Extension  \n",
    " - Snowflake Copilot\n",
    " - Document AI \n",
    " - DL (deep Learning)\n",
    " - GenAI\n",
    " - LLMs\n",
    "'''"
   ]
  },
  {
   "cell_type": "code",
   "execution_count": null,
   "metadata": {},
   "outputs": [],
   "source": [
    "# 163: Quick Tips SENTIMENT LLM Function \n",
    " # LLM : LARGE LANGUGE MODEL \n",
    "# 164: Introduction to LLLM FunctinoL Overview \n",
    "'''\n",
    " # LLM Functions \n",
    " - COMPLETE \n",
    " - EXTRACT_ANSWER\n",
    " - SENTIMENT\n",
    " - SUMMARIZE \n",
    " - TRANSLATE\n",
    "'''"
   ]
  }
 ],
 "metadata": {
  "kernelspec": {
   "display_name": "myenv",
   "language": "python",
   "name": "python3"
  },
  "language_info": {
   "codemirror_mode": {
    "name": "ipython",
    "version": 3
   },
   "file_extension": ".py",
   "mimetype": "text/x-python",
   "name": "python",
   "nbconvert_exporter": "python",
   "pygments_lexer": "ipython3",
   "version": "3.9.12"
  }
 },
 "nbformat": 4,
 "nbformat_minor": 2
}
