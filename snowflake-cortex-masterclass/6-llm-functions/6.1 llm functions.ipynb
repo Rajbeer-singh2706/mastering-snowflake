{
 "cells": [
  {
   "cell_type": "code",
   "execution_count": 1,
   "metadata": {},
   "outputs": [
    {
     "data": {
      "text/plain": [
       "'\\n - LLM Extension  \\n - Snowflake Copilot\\n - Document AI \\n'"
      ]
     },
     "execution_count": 1,
     "metadata": {},
     "output_type": "execute_result"
    }
   ],
   "source": [
    "#\n",
    "# 162\n",
    "'''\n",
    " - LLM Extension  \n",
    " - Snowflake Copilot\n",
    " - Document AI \n",
    " - DL (deep Learning)\n",
    " - GenAI\n",
    " - LLMs\n",
    "'''"
   ]
  },
  {
   "cell_type": "code",
   "execution_count": 1,
   "metadata": {},
   "outputs": [
    {
     "data": {
      "text/plain": [
       "'\\n  - Dont jump to specialize \\n'"
      ]
     },
     "execution_count": 1,
     "metadata": {},
     "output_type": "execute_result"
    }
   ],
   "source": [
    "# 163: Quick Tips SENTIMENT LLM Function \n",
    " # LLM : LARGE LANGUGE MODEL \n",
    "# 164: Introduction to LLLM FunctinoL Overview \n",
    "'''\n",
    " # LLM Functions \n",
    " - COMPLETE \n",
    " - EXTRACT_ANSWER\n",
    " - SENTIMENT\n",
    " - SUMMARIZE \n",
    " - TRANSLATE\n",
    "'''\n",
    "# Quick Tips \n",
    "'''\n",
    "  - Dont jump to specialize \n",
    "'''#"
   ]
  },
  {
   "cell_type": "code",
   "execution_count": 2,
   "metadata": {},
   "outputs": [],
   "source": [
    "# 180. Access Rights to LLM Functions \n",
    "# "
   ]
  },
  {
   "cell_type": "code",
   "execution_count": null,
   "metadata": {},
   "outputs": [],
   "source": [
    "# LLM UI Extensions\n",
    "'''\n",
    " 1. snowflake CoPilot \n",
    " 2. Universal Search\n",
    " 3. Document AI \n",
    "'''"
   ]
  }
 ],
 "metadata": {
  "kernelspec": {
   "display_name": "myenv",
   "language": "python",
   "name": "python3"
  },
  "language_info": {
   "codemirror_mode": {
    "name": "ipython",
    "version": 3
   },
   "file_extension": ".py",
   "mimetype": "text/x-python",
   "name": "python",
   "nbconvert_exporter": "python",
   "pygments_lexer": "ipython3",
   "version": "3.9.12"
  }
 },
 "nbformat": 4,
 "nbformat_minor": 2
}
