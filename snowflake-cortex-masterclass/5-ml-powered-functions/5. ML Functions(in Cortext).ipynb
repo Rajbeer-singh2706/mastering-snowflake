{
 "cells": [
  {
   "cell_type": "code",
   "execution_count": null,
   "metadata": {},
   "outputs": [],
   "source": [
    "# Section 5: ML Functions (in Cortex)"
   ]
  },
  {
   "cell_type": "code",
   "execution_count": null,
   "metadata": {},
   "outputs": [
    {
     "data": {
      "text/plain": [
       "'\\n 1. time-series forecasting\\n 2. Anomaly Detection\\n 3. Classification\\n 4. Contribution Explorer\\n'"
      ]
     },
     "execution_count": 4,
     "metadata": {},
     "output_type": "execute_result"
    }
   ],
   "source": [
    "#129. Introduction: ML Classes \n",
    "'''\n",
    " 1. time-series forecasting =>  SNOWFLAKE.ML.FORECAST\n",
    " 2. Anomaly Detection       =>  SNOWFLAKE.ML.ANOMALY_DETECTION\n",
    " 3. Classification          =>  SNOWFLAKE.ML.CLASSIFICATION\n",
    " 4. Contribution Explorer   =>  SNOWFLAKE.ML.TOP_INSIGHTS\n",
    "'''"
   ]
  },
  {
   "cell_type": "code",
   "execution_count": null,
   "metadata": {},
   "outputs": [],
   "source": [
    "# 130. ML Class Methods \n",
    "'''\n",
    "  - SHOW CLASSES IN DATABASE SNOWFLAKE;\n",
    "  - SHOW CLASSES IN SCHEMA SNOWFLAKE.ML;\n",
    "\n",
    "# CLASSIFICATION\n",
    "  - SHOW FUNCTIONS IN CLASS CLASSIFICATION;\n",
    "  - SHOW PROCEDURES IN CLASS CLASSIFICATION;\n",
    "  - SHOW CLASSIFICATION;\n",
    "  - SHOW SNOWFLAKE.ML.CLASSIFICATION;\n",
    "\n",
    "# FORECAST \n",
    "  - SHOW FUNCTIONS IN CLASS FORECAST\n",
    "  - SHOW PROCEDURES IN CLASS FORECAST;\n",
    "  - SHOW FORECAST;\n",
    "\n",
    "# ANOMALY_DETECTION \n",
    "  - SHOW FUNCTIONS IN CLASS ANOMALY_DETECTION\n",
    "  - SHOW PROCEDURES IN CLASS ANOMALY_DETECTION;\n",
    "  - SHOW ANOMALY_DETECTION;\n",
    "\n",
    "# DESCRIBE FUNCTION TOP_INSIGHTS(OBJECT,OBJECT,FLOAT,BOOLEN)\n",
    "  \n",
    "'''"
   ]
  },
  {
   "cell_type": "code",
   "execution_count": 5,
   "metadata": {},
   "outputs": [
    {
     "data": {
      "text/plain": [
       "'\\n project is extended to DECEMBER\\n 1. Need to strong in SQL \\n 2. STRONG in Dataset [ SAT/SUN]\\n 3. STRONG in Notebook of NPS [ END TO END ]\\n'"
      ]
     },
     "execution_count": 5,
     "metadata": {},
     "output_type": "execute_result"
    }
   ],
   "source": [
    "# 131. SNOWFLAKE SQL Classes \n",
    "'''\n",
    "  - HANDS ON \n",
    "'''"
   ]
  },
  {
   "cell_type": "code",
   "execution_count": 2,
   "metadata": {},
   "outputs": [],
   "source": [
    "# 144. Anomaly Detection : Overview"
   ]
  },
  {
   "cell_type": "code",
   "execution_count": 4,
   "metadata": {},
   "outputs": [],
   "source": [
    "# 139. Forecasting:  Time Series data : Hands On : Pending "
   ]
  },
  {
   "cell_type": "code",
   "execution_count": null,
   "metadata": {},
   "outputs": [],
   "source": [
    "# 140: Forecasting : Prepare sales data"
   ]
  },
  {
   "cell_type": "code",
   "execution_count": null,
   "metadata": {},
   "outputs": [],
   "source": [
    "# 145. Hands ON :  Anomaly Detection :Detect Outliers in sales \n",
    "\n",
    "# SALES_TS\n",
    "'''\n",
    "  - STORE_ID \n",
    "  - ITEM\n",
    "  - DATE\n",
    "  - SALES\n",
    "  - OUTLIER\n",
    "  - TEMPERATURE\n",
    "  - HUMIDITY\n",
    "  - HOLIDAY\n",
    "'''\n",
    "\n",
    "# 5.4.1-sales-manual.sql "
   ]
  }
 ],
 "metadata": {
  "kernelspec": {
   "display_name": "upgrad_env",
   "language": "python",
   "name": "python3"
  },
  "language_info": {
   "codemirror_mode": {
    "name": "ipython",
    "version": 3
   },
   "file_extension": ".py",
   "mimetype": "text/x-python",
   "name": "python",
   "nbconvert_exporter": "python",
   "pygments_lexer": "ipython3",
   "version": "3.9.6"
  }
 },
 "nbformat": 4,
 "nbformat_minor": 2
}
