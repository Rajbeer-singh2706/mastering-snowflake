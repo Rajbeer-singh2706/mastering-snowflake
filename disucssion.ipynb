{
 "cells": [
  {
   "cell_type": "code",
   "execution_count": 1,
   "metadata": {},
   "outputs": [
    {
     "ename": "SyntaxError",
     "evalue": "invalid syntax (509671472.py, line 3)",
     "output_type": "error",
     "traceback": [
      "\u001b[0;36m  Cell \u001b[0;32mIn[1], line 3\u001b[0;36m\u001b[0m\n\u001b[0;31m    - Team Updates, Project Update\u001b[0m\n\u001b[0m           ^\u001b[0m\n\u001b[0;31mSyntaxError\u001b[0m\u001b[0;31m:\u001b[0m invalid syntax\n"
     ]
    }
   ],
   "source": [
    "# 14-NOV-2024\n",
    "'''\n",
    "- Team Updates, Project Update\n",
    "- LLM UPdate \n",
    "   * Learning LangChain \n",
    "   * Lang Graph \n",
    "\n",
    "- SnowFlake OPtimization \n",
    "   * Learnt from basic \n",
    "   * Used Few functions to see how we can optimize it \n",
    "\n",
    "URL : https://fajgdjo-hib83979.snowflakecomputing.com/console/login\n",
    "\n",
    "'''\n"
   ]
  },
  {
   "cell_type": "code",
   "execution_count": null,
   "metadata": {},
   "outputs": [],
   "source": [
    "SELECT COMPLETE('mistral-large', 'Is this bank customer cancelling his service? ' || $review) as completion;\n",
    "\n",
    "SELECT EXTRACT_ANSWER($review, 'Why is this customer not paying his bills?') as answer;\n",
    "\n",
    "SELECT SENTIMENT($review) as mood;\n",
    "\n",
    "SELECT SUMMARIZE($review) as summary;\n",
    "\n",
    "SELECT TRANSLATE($review, 'en', 'fr') as translation;\n",
    "\n",
    "SELECT SNOWFLAKE.CORTEX.TRANSLATE($review, 'en', 'fr') as translation;"
   ]
  },
  {
   "cell_type": "code",
   "execution_count": null,
   "metadata": {},
   "outputs": [],
   "source": []
  }
 ],
 "metadata": {
  "kernelspec": {
   "display_name": "upgrad_env",
   "language": "python",
   "name": "python3"
  },
  "language_info": {
   "codemirror_mode": {
    "name": "ipython",
    "version": 3
   },
   "file_extension": ".py",
   "mimetype": "text/x-python",
   "name": "python",
   "nbconvert_exporter": "python",
   "pygments_lexer": "ipython3",
   "version": "3.9.6"
  }
 },
 "nbformat": 4,
 "nbformat_minor": 2
}
