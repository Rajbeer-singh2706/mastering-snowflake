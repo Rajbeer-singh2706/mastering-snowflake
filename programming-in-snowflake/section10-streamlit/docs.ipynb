{
 "cells": [
  {
   "cell_type": "code",
   "execution_count": null,
   "metadata": {},
   "outputs": [],
   "source": [
    "#Section 10: Streamlist Web applications"
   ]
  },
  {
   "cell_type": "code",
   "execution_count": null,
   "metadata": {},
   "outputs": [],
   "source": [
    "# 73. Section Summary \n",
    "'''\n",
    " 1. INtroduction to streamlit\n",
    " 2. Layout COmponents\n",
    " 3. INterative Widgets\n",
    " 4. State and Callbacks\n",
    " 5. Data Cache\n",
    " 6. Multi-Page Applications\n",
    " 7. Test as Local Web App\n",
    " 8. Deploy and share as web App\n",
    "'''"
   ]
  },
  {
   "cell_type": "code",
   "execution_count": null,
   "metadata": {},
   "outputs": [],
   "source": [
    "# 74. HandsOn: Create Your first Streamlist Web App"
   ]
  }
 ],
 "metadata": {
  "language_info": {
   "name": "python"
  }
 },
 "nbformat": 4,
 "nbformat_minor": 2
}
