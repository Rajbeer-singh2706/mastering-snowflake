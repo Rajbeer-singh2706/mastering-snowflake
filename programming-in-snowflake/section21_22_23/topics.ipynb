{
 "cells": [
  {
   "cell_type": "code",
   "execution_count": 1,
   "metadata": {},
   "outputs": [],
   "source": [
    "# Section 21: Data Analytics with SNOWFLAKE"
   ]
  },
  {
   "cell_type": "code",
   "execution_count": 2,
   "metadata": {},
   "outputs": [],
   "source": [
    "# 154.Introdction\n",
    "# 155. Hands ON: Convert SUBQUERIES to CTEs\n",
    "# 156. Hands ON: Create Aggregated Queries"
   ]
  },
  {
   "cell_type": "code",
   "execution_count": 3,
   "metadata": {},
   "outputs": [],
   "source": [
    "# 157. HandsOn: Pivot and UNpivot Data\n",
    "# 158. Review: Intermeditate Data Anlytics in SQL\n",
    "# Select Statement\n",
    "'''\n",
    " * SELECT                           <- Projection\n",
    " * DISTINCT                         <- Dedup \n",
    " * FROM                             <- SOURCES(JOINS)\n",
    " * PIVOT/UNPIVOT                    <- DICING \n",
    " * GROUP BY[CUBE/ROLLUP/...]        <- GROUPING \n",
    " * WHERE|HAVING|QUALIFY             <- Filters\n",
    " * ORDER BY ....                    <- Soting \n",
    " * TOP|LIMIT|OFFSET|FETCH           <- SLICING \n",
    "'''\n",
    "\n",
    "# Subqueries VS CTE [ Convert subqueries to CTE]"
   ]
  },
  {
   "cell_type": "code",
   "execution_count": null,
   "metadata": {},
   "outputs": [],
   "source": [
    "# 159. HandsOn: Query dat from the Past\n",
    "# 160. Review: Time Travel and Fail-safe\n",
    "'''\n",
    " - Time Travel \n",
    "  * Looking\n",
    "'''"
   ]
  },
  {
   "cell_type": "code",
   "execution_count": null,
   "metadata": {},
   "outputs": [],
   "source": [
    "'''\n",
    "    Q) What is time travel ?\n",
    "    Q) No of days we can travel back ?\n",
    "    Q) What is Fail-safe?\n",
    "'''"
   ]
  },
  {
   "cell_type": "code",
   "execution_count": null,
   "metadata": {},
   "outputs": [],
   "source": [
    "# Read the PDF and convert into text and make ready doc for every section"
   ]
  },
  {
   "cell_type": "code",
   "execution_count": null,
   "metadata": {},
   "outputs": [],
   "source": [
    "# Section 22: Advacnce Analytics with Snowflake\n",
    "# HandsON: Query with QUALIFY\n",
    "'''\n",
    "row_number() \n",
    "partition => is internal group by  \n",
    "order by  => is exteranl order by \n",
    "'''\n",
    "\n",
    "# HandsON: Moving Average Query\n",
    "# HandsON: Query with Rank Functions "
   ]
  },
  {
   "cell_type": "code",
   "execution_count": null,
   "metadata": {},
   "outputs": [],
   "source": [
    "# Hands ON : Query with OFFSET FUNCTIONS \n",
    "'''\n",
    "   lead(), lag()\n",
    "\n",
    "   lead(sal, 1) over (order by hiredate) lead,\n",
    "   first_value(sal) over (order by hiredate) first,\n",
    "   last_value(sal) over (order by hiredate) last,\n",
    "   nth_value(sal, 1) over (order by hiredate) nth\n",
    "'''\n",
    "# \n",
    "'''\n",
    "  LEAD(expr, offset=1)\n",
    "  LAG(expr, offset=1)\n",
    "\n",
    "  * FIRST_VALUE(expr)\n",
    "  * LAST_VALUE(expr)\n",
    "  * N_VALUE(expr)\n",
    "'''"
   ]
  },
  {
   "cell_type": "code",
   "execution_count": null,
   "metadata": {},
   "outputs": [],
   "source": [
    "# Review : WIndow Function \n",
    "'''\n",
    " * Partition BY \n",
    " * ORDER BY \n",
    "\n",
    " * ROWS/RANGE <= WINDOW FRAMING(#rows/values)\n",
    " \n",
    " 1. ROW_NUMBER() <= 1,2,3,4,5,6,7\n",
    " 2.  RANK()      <= 1,1,3,4,4,4,7\n",
    " 3. DENSE_RANK() <= 1,1,2,3,3,3,4..\n",
    " 4. PRECENT_RANK() =< 0%,0%, 23%, 48%\n",
    "\n",
    " 5. NTILE(n) <= 1,1,1,2,2,3,3, [ create one bucket with n values and then assign fix value ]\n",
    " 6. CUME_DIST()\n",
    "'''"
   ]
  },
  {
   "cell_type": "code",
   "execution_count": null,
   "metadata": {},
   "outputs": [],
   "source": [
    "# HANDS ON : USe statistical functions"
   ]
  },
  {
   "cell_type": "code",
   "execution_count": null,
   "metadata": {},
   "outputs": [],
   "source": [
    "# Review : statistical functions\n",
    "'''\n",
    " - VAR_POP/SAMP\n",
    "'''"
   ]
  }
 ],
 "metadata": {
  "kernelspec": {
   "display_name": "myenv",
   "language": "python",
   "name": "python3"
  },
  "language_info": {
   "codemirror_mode": {
    "name": "ipython",
    "version": 3
   },
   "file_extension": ".py",
   "mimetype": "text/x-python",
   "name": "python",
   "nbconvert_exporter": "python",
   "pygments_lexer": "ipython3",
   "version": "3.9.12"
  }
 },
 "nbformat": 4,
 "nbformat_minor": 2
}
