{
 "cells": [
  {
   "cell_type": "code",
   "execution_count": 1,
   "metadata": {},
   "outputs": [],
   "source": [
    "# Section 21: Data Analytics with SNOWFLAKE"
   ]
  },
  {
   "cell_type": "code",
   "execution_count": 2,
   "metadata": {},
   "outputs": [],
   "source": [
    "# 154.Introdction\n",
    "# 155. Hands ON: Convert SUBQUERIES to CTEs\n",
    "# 156. Hands ON: Create Aggregated Queries"
   ]
  },
  {
   "cell_type": "code",
   "execution_count": 3,
   "metadata": {},
   "outputs": [],
   "source": [
    "# 157. HandsOn: Pivot and UNpivot Data\n",
    "# 158. Review: Intermeditate Data Anlytics in SQL\n",
    "# Select Statement\n",
    "'''\n",
    " * SELECT                           <- Projection\n",
    " * DISTINCT                         <- Dedup \n",
    " * FROM                             <- SOURCES(JOINS)\n",
    " * PIVOT/UNPIVOT                    <- DICING \n",
    " * GROUP BY[CUBE/ROLLUP/...]        <- GROUPING \n",
    " * WHERE|HAVING|QUALIFY             <- Filters\n",
    " * ORDER BY ....                    <- Soting \n",
    " * TOP|LIMIT|OFFSET|FETCH           <- SLICING \n",
    "'''\n",
    "\n",
    "# Subqueries VS CTE [ Convert subqueries to CTE]"
   ]
  },
  {
   "cell_type": "code",
   "execution_count": null,
   "metadata": {},
   "outputs": [],
   "source": [
    "# 159. HandsOn: Query dat from the Past\n",
    "# 160. Review: Time Travel and Fail-safe\n",
    "'''\n",
    " - Time Travel \n",
    "  * Looking\n",
    "'''"
   ]
  },
  {
   "cell_type": "code",
   "execution_count": null,
   "metadata": {},
   "outputs": [],
   "source": [
    "'''\n",
    "    Q) What is time travel ?\n",
    "    Q) No of days we can travel back ?\n",
    "    Q) What is Fail-safe?\n",
    "'''"
   ]
  },
  {
   "cell_type": "code",
   "execution_count": null,
   "metadata": {},
   "outputs": [],
   "source": [
    "# Read the PDF and convert into text and make ready doc for every section"
   ]
  },
  {
   "cell_type": "code",
   "execution_count": null,
   "metadata": {},
   "outputs": [],
   "source": [
    "# Section 22: Advacnce Analytics with Snowflake\n",
    "# HandsON: Query with QUALIFY"
   ]
  }
 ],
 "metadata": {
  "kernelspec": {
   "display_name": "myenv",
   "language": "python",
   "name": "python3"
  },
  "language_info": {
   "codemirror_mode": {
    "name": "ipython",
    "version": 3
   },
   "file_extension": ".py",
   "mimetype": "text/x-python",
   "name": "python",
   "nbconvert_exporter": "python",
   "pygments_lexer": "ipython3",
   "version": "3.9.12"
  }
 },
 "nbformat": 4,
 "nbformat_minor": 2
}
