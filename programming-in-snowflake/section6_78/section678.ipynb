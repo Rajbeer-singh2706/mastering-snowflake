{
 "cells": [
  {
   "cell_type": "code",
   "execution_count": 1,
   "metadata": {},
   "outputs": [],
   "source": [
    "# Section 6: Stored Procedures and Recursive SQL \n",
    "# Section 7: SQL and Snowflake Scripting \n",
    "# Section 8: Snowflake Data Pipelines "
   ]
  },
  {
   "cell_type": "code",
   "execution_count": 2,
   "metadata": {},
   "outputs": [
    {
     "data": {
      "text/plain": [
       "'\\n * Querying Hierarchical Data in SQL \\n * Views \\n * Stored Procedures\\n * JavaScript Stored PRocedures API \\n * User_DEfined Finction(UDFS)\\n  * User_DEfined Table Finction(UDTS)\\n'"
      ]
     },
     "execution_count": 2,
     "metadata": {},
     "output_type": "execute_result"
    }
   ],
   "source": [
    "##### 35. Intro \n",
    "'''\n",
    " * Querying Hierarchical Data in SQL \n",
    " * Views \n",
    " * Stored Procedures\n",
    " * JavaScript Stored PRocedures API \n",
    " * User_DEfined Finction(UDFS)\n",
    " * User_DEfined Table Finction(UDTS)\n",
    "'''"
   ]
  },
  {
   "cell_type": "code",
   "execution_count": null,
   "metadata": {},
   "outputs": [],
   "source": [
    "# 36. Hands ON : Prepare Hierarchical Data\n",
    "# 37. Hands ON : Query Hierarchical data with JOINS\n",
    "# 38. Hands ON : Query Hierarchical data with Recursive\n",
    "# 39. REVIEW   : SQL Queries for Hierarchical Data\n",
    "'''\n",
    " 1. Multi-Level JOINs\n",
    " 2. CONNECT BY\n",
    " 3. Recursive CTEs\n",
    " 4. Recursive Views \n",
    "'''"
   ]
  },
  {
   "cell_type": "code",
   "execution_count": null,
   "metadata": {},
   "outputs": [],
   "source": [
    "# 40. HANDS ON: Create UDFs in SQL\n",
    "# 41. Hands ON: Create Stored Procedure in JavaScript\n",
    "# 42. Review: Stored Procedures and Functions\n",
    "'''\n",
    "\n",
    "'''"
   ]
  },
  {
   "cell_type": "code",
   "execution_count": null,
   "metadata": {},
   "outputs": [],
   "source": [
    "# 10 Years of Excellence \n",
    "'''\n",
    " how to make ten years journey with excellenace from now-onwards\n",
    "'''"
   ]
  },
  {
   "cell_type": "code",
   "execution_count": 1,
   "metadata": {},
   "outputs": [
    {
     "data": {
      "text/plain": [
       "'\\n * Object Identifiers \\n * DDL Statements \\n * Zero-Copy Cloning \\n * DML Statements \\n * Snowfalke Scripting\\n * SQL vs SQL Scripting \\n * Cursor and ResultSet\\n * Transactions\\n'"
      ]
     },
     "execution_count": 1,
     "metadata": {},
     "output_type": "execute_result"
    }
   ],
   "source": [
    "# Section 7: SQL And SNowflake Scripting \n",
    "'''\n",
    " * Object Identifiers \n",
    " * DDL Statements \n",
    " * Zero-Copy Cloning \n",
    " * DML Statements \n",
    " * Snowfalke Scripting\n",
    " * SQL vs SQL Scripting \n",
    " * Cursor and ResultSet\n",
    " * Transactions\n",
    "'''"
   ]
  },
  {
   "cell_type": "code",
   "execution_count": 2,
   "metadata": {},
   "outputs": [
    {
     "data": {
      "text/plain": [
       "'\\n  * Column References and JSON Properties\\n  * Variables\\n    - Session variables\\n    - local variables\\n    - bind variables\\n    - Envrioment variable\\n'"
      ]
     },
     "execution_count": 2,
     "metadata": {},
     "output_type": "execute_result"
    }
   ],
   "source": [
    "#Use Case Sensitive Identifiers\n",
    "#Use Identifiers References\n",
    "#Access JSON Object Properties\n",
    "#R:Identifiers and Variables in Snowflake SQL\n",
    "'''\n",
    "  * Column References and JSON Properties\n",
    "  * Variables\n",
    "    - Session variables\n",
    "    - local variables\n",
    "    - bind variables\n",
    "    - Envrioment variable\n",
    "'''"
   ]
  },
  {
   "cell_type": "code",
   "execution_count": null,
   "metadata": {},
   "outputs": [],
   "source": [
    "#H:Clone table Data \n",
    "#R:Duplicating Table data and Zero-COPY\n",
    "'''\n",
    " * DDL(Data Definit Langauge )\n",
    "   - CREATE/ALTER/DROP\n",
    "   - COMMEMNT/USE\n",
    "   - SHOW/DESCRIBE\n",
    "\n",
    " * DML (Data Manipulation Langauge)\n",
    "   - INSERT/UPDATE\n",
    "   - DELETE/TRUNCATE\n",
    "   - MERGE/EXPLAIN\n",
    " \n",
    " * DQL \n",
    "    - SELECT \n",
    "    - CALL \n",
    " \n",
    " * TCL(Transaction Control Language)\n",
    " \n",
    " * DCL(Data Control Language)\n",
    "   - USER/ROLE\n",
    "   - GRANT/REVOKE\n",
    "'''\n"
   ]
  },
  {
   "cell_type": "code",
   "execution_count": 3,
   "metadata": {},
   "outputs": [],
   "source": [
    "#50. Snowflake Scripting Procedre with Cursor : DONE \n",
    "#51. Snowflake Scripting Procedre with ResultSet : DONE\n",
    "#52. Snowflake Scripting Procedure Calling a Javacript Function: DONE \n",
    "#53. Test the Generic Hierarchical Viewer in SQL\n",
    "#Review. snowflake Scripting\n",
    "'''\n",
    " Looping \n",
    "   - FOR \n",
    "   - WHILE \n",
    "   - REPEAT\n",
    "   - LOOP\n",
    "'''"
   ]
  },
  {
   "cell_type": "code",
   "execution_count": 1,
   "metadata": {},
   "outputs": [
    {
     "data": {
      "text/plain": [
       "'\\n# Transaction Control Language (TCL)\\n  * BEGIN TRANSACTION\\n  * COMMIT/ROLLBACK\\n\\n  * DESCRIBE TRANSACTION\\n  * SHOW TRANSACTIONS\\n\\n  * SHOW LOCKS\\n\\n# Transactions\\n    * explicit \\n    * implicit\\n    * inner\\n    * nested\\n    * scoped\\n \\n'"
      ]
     },
     "execution_count": 1,
     "metadata": {},
     "output_type": "execute_result"
    }
   ],
   "source": [
    "#55. Implement Transaction\n",
    "#56. More Transaction Use Cases\n",
    "#57. Review: Transaction in SnowFlake\n",
    "'''\n",
    "# Transaction Control Language (TCL)\n",
    "  * BEGIN TRANSACTION\n",
    "  * COMMIT/ROLLBACK\n",
    "\n",
    "  * DESCRIBE TRANSACTION\n",
    "  * SHOW TRANSACTIONS\n",
    "\n",
    "  * SHOW LOCKS\n",
    "\n",
    "# Transactions\n",
    "    * explicit \n",
    "    * implicit\n",
    "    * inner\n",
    "    * nested\n",
    "    * scoped\n",
    " \n",
    "'''"
   ]
  },
  {
   "cell_type": "code",
   "execution_count": 2,
   "metadata": {},
   "outputs": [],
   "source": [
    "# Section 8: Snowflake Data Pipelines \n",
    "'''\n",
    " * Change Data capture(CDC)\n",
    " * MERGE Statement\n",
    " * Change Tracking\n",
    " * Streams and Tasks\n",
    " * Dynamic Tables\n",
    " * Snowpipe\n",
    "'''"
   ]
  },
  {
   "cell_type": "code",
   "execution_count": 3,
   "metadata": {},
   "outputs": [
    {
     "data": {
      "text/plain": [
       "'\\n##### TOPICS #######\\n\\n# 1. Streams \\n# 2. Task (Serverless and Non-Serverless)\\n# 3. Dynamic Tables \\n'"
      ]
     },
     "execution_count": 3,
     "metadata": {},
     "output_type": "execute_result"
    }
   ],
   "source": [
    "# 59. Batch & Stream Data transfer to snowflake\n",
    "# 60. Manual CDC with merge statement\n",
    "# 61. Enable Change Tracking on a Table\n",
    "# 62. CDC with Streams and Task\n",
    "# 63. CDC with Dynamic Tables \n",
    "# 64. Review : CDC in Snowflake \n",
    "'''\n",
    "##### TOPICS #######\n",
    "# 1. Streams \n",
    "# 2. Task (Serverless and Non-Serverless)\n",
    "# 3. Dynamic Tables \n",
    "'''"
   ]
  },
  {
   "cell_type": "code",
   "execution_count": null,
   "metadata": {},
   "outputs": [],
   "source": [
    "# 65. Continuous data loading with Snowpipe on S3\n",
    "# 66. Review:  Snowpipe on S3\n",
    "'''\n",
    " - STAGES => External Stage \n",
    " - SnowPIPE \n",
    "'''\n",
    "\n",
    "### Question ####\n",
    "'''\n",
    " Q) When to use snowpipe \n",
    " Q) How it is useful \n",
    " Q) Why to store data in snowflake if it is already stored in S3 bucket , Why to keep extra copy in snowflake as well as in S3 also \n",
    " \n",
    "'''"
   ]
  }
 ],
 "metadata": {
  "kernelspec": {
   "display_name": "myenv",
   "language": "python",
   "name": "python3"
  },
  "language_info": {
   "codemirror_mode": {
    "name": "ipython",
    "version": 3
   },
   "file_extension": ".py",
   "mimetype": "text/x-python",
   "name": "python",
   "nbconvert_exporter": "python",
   "pygments_lexer": "ipython3",
   "version": "3.9.12"
  }
 },
 "nbformat": 4,
 "nbformat_minor": 2
}
