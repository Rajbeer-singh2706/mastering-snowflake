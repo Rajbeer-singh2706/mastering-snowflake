{
 "cells": [
  {
   "cell_type": "code",
   "execution_count": null,
   "metadata": {},
   "outputs": [],
   "source": [
    "# Section 9: PENDING "
   ]
  },
  {
   "cell_type": "code",
   "execution_count": null,
   "metadata": {},
   "outputs": [],
   "source": []
  },
  {
   "cell_type": "code",
   "execution_count": null,
   "metadata": {},
   "outputs": [],
   "source": [
    "# Section 10: Streamlist Web applications\n",
    "# 73. Section Summary (app folder)\n",
    "'''\n",
    " 1. Introduction to streamlit\n",
    " 2. Layout Components\n",
    " 3. Interative Widgets\n",
    " 4. State and Callbacks\n",
    " 5. Data Cache\n",
    " 6. Multi-Page Applications\n",
    " 7. Test as Local Web App\n",
    " 8. Deploy and share as web App\n",
    "'''"
   ]
  },
  {
   "cell_type": "code",
   "execution_count": null,
   "metadata": {},
   "outputs": [],
   "source": [
    "# 74. HandsOn: Create Your first Streamlist Web App\n",
    "'''\n",
    " cd app/\n",
    "'''\n",
    "# 75. Add Functionality with Streamlist Tab Control \n",
    "# 76. REview: Introduction to Streamlit\n",
    "'''\n",
    "'''\n",
    "print(\"IN-PGRORESS\")"
   ]
  },
  {
   "cell_type": "code",
   "execution_count": 1,
   "metadata": {},
   "outputs": [
    {
     "data": {
      "text/plain": [
       "''"
      ]
     },
     "execution_count": 1,
     "metadata": {},
     "output_type": "execute_result"
    }
   ],
   "source": [
    "# 77. Review : Streamlit Layot Components and Interactive Widgets\n",
    "''''''"
   ]
  },
  {
   "cell_type": "code",
   "execution_count": null,
   "metadata": {},
   "outputs": [],
   "source": [
    "# 78. Hands ON: Cache Streamlit Data \n",
    "# 79. REview : Streamlit session and Data Caching "
   ]
  },
  {
   "cell_type": "code",
   "execution_count": null,
   "metadata": {},
   "outputs": [],
   "source": [
    "# 80. Hands on : Deploy and share a web app in Streamlit Cloud \n",
    "# 81. Review : Deploying a web app in Streamlit Cloud "
   ]
  }
 ],
 "metadata": {
  "kernelspec": {
   "display_name": "myenv",
   "language": "python",
   "name": "python3"
  },
  "language_info": {
   "codemirror_mode": {
    "name": "ipython",
    "version": 3
   },
   "file_extension": ".py",
   "mimetype": "text/x-python",
   "name": "python",
   "nbconvert_exporter": "python",
   "pygments_lexer": "ipython3",
   "version": "3.9.12"
  }
 },
 "nbformat": 4,
 "nbformat_minor": 2
}
