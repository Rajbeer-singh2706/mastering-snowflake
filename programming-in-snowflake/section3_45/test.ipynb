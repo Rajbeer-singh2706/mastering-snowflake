{
 "cells": [
  {
   "cell_type": "code",
   "execution_count": 2,
   "metadata": {},
   "outputs": [
    {
     "name": "stdout",
     "output_type": "stream",
     "text": [
      "Collecting faker\n",
      "  Downloading Faker-29.0.0-py3-none-any.whl.metadata (15 kB)\n",
      "Requirement already satisfied: python-dateutil>=2.4 in /Users/rajsingh/work/repos-new/snowflake_env/lib/python3.9/site-packages (from faker) (2.9.0.post0)\n",
      "Requirement already satisfied: six>=1.5 in /Users/rajsingh/work/repos-new/snowflake_env/lib/python3.9/site-packages (from python-dateutil>=2.4->faker) (1.16.0)\n",
      "Downloading Faker-29.0.0-py3-none-any.whl (1.8 MB)\n",
      "\u001b[2K   \u001b[90m━━━━━━━━━━━━━━━━━━━━━━━━━━━━━━━━━━━━━━━━\u001b[0m \u001b[32m1.8/1.8 MB\u001b[0m \u001b[31m6.7 MB/s\u001b[0m eta \u001b[36m0:00:00\u001b[0m-:--:--\u001b[0m\n",
      "\u001b[?25hInstalling collected packages: faker\n",
      "Successfully installed faker-29.0.0\n"
     ]
    }
   ],
   "source": [
    "!pip3 install faker"
   ]
  },
  {
   "cell_type": "code",
   "execution_count": 3,
   "metadata": {},
   "outputs": [
    {
     "name": "stdout",
     "output_type": "stream",
     "text": [
      "                  name                                            address  \\\n",
      "0    Stephen Fernandez     11290 Gilbert Road\\nWest Connieburgh, OR 06012   \n",
      "1     Elizabeth Murphy  3667 Mcdonald Groves Suite 525\\nAndrewborough,...   \n",
      "2        Michelle Rice         8393 Casey Road\\nEast Reneehaven, MA 98384   \n",
      "3      Mitchell Thomas      8688 Hester Crossroad\\nEdwardsburgh, UT 75402   \n",
      "4       Patricia Jones           755 Stafford Square\\nLauraview, WA 56254   \n",
      "..                 ...                                                ...   \n",
      "995        James Baker    2514 Alexander Harbor\\nMelaniechester, NH 74112   \n",
      "996        Nancy Brown  0270 Danny Mission Apt. 473\\nSouth Jillfort, M...   \n",
      "997      Jorge Alvarez      5890 Emily Turnpike\\nMontgomerytown, SC 89636   \n",
      "998    Maurice Harding                       USCGC Ferguson\\nFPO AE 47583   \n",
      "999   Cassandra Finley  6971 Jeanne Ports Apt. 848\\nShieldstown, OK 03681   \n",
      "\n",
      "                   city           state                        email  \n",
      "0      Port Josephshire        Nebraska         brianayu@example.com  \n",
      "1           New Kirsten  North Carolina     hansonedward@example.org  \n",
      "2    East Victoriamouth           Idaho      josepholson@example.com  \n",
      "3          Lawrencestad        Maryland        hoconnell@example.com  \n",
      "4             Aaronfurt           Maine          rayrick@example.com  \n",
      "..                  ...             ...                          ...  \n",
      "995    Lake Stephenberg        Michigan    annerodriguez@example.org  \n",
      "996         Lisachester         Wyoming          jared82@example.com  \n",
      "997          Dunlapberg     Mississippi  patriciawiggins@example.net  \n",
      "998          Port Allen   New Hampshire          laura47@example.net  \n",
      "999          Shellyview   New Hampshire  eugenehernandez@example.org  \n",
      "\n",
      "[1000 rows x 5 columns]\n"
     ]
    }
   ],
   "source": [
    "from faker import Faker\n",
    "import pandas as pd\n",
    "\n",
    "fake = Faker()\n",
    "output = [{\n",
    "        \"name\": fake.name(),\n",
    "        \"address\": fake.address(),\n",
    "        \"city\": fake.city(),\n",
    "        \"state\": fake.state(),\n",
    "        \"email\": fake.email()\n",
    "    } for _ in range(1000)]\n",
    "df = pd.DataFrame(output)\n",
    "print(df)"
   ]
  },
  {
   "cell_type": "code",
   "execution_count": null,
   "metadata": {},
   "outputs": [],
   "source": []
  }
 ],
 "metadata": {
  "kernelspec": {
   "display_name": "myenv",
   "language": "python",
   "name": "python3"
  },
  "language_info": {
   "codemirror_mode": {
    "name": "ipython",
    "version": 3
   },
   "file_extension": ".py",
   "mimetype": "text/x-python",
   "name": "python",
   "nbconvert_exporter": "python",
   "pygments_lexer": "ipython3",
   "version": "3.9.6"
  }
 },
 "nbformat": 4,
 "nbformat_minor": 2
}
