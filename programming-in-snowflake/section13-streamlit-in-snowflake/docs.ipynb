{
 "cells": [
  {
   "cell_type": "code",
   "execution_count": null,
   "metadata": {},
   "outputs": [],
   "source": [
    "#Section 13: Streamlit in Snowflake\n",
    "'''\n",
    " * Streamlit in snowflake Architecture \n",
    " * Test as Local Stremlit Web APP\n",
    " * Deploy as Streamlit in SnowFlake APP \n",
    " * Event Tables \n",
    " * Log Messages & Trace Events \n",
    " * Alerts & Email Notification\n",
    "'''"
   ]
  },
  {
   "cell_type": "code",
   "execution_count": 2,
   "metadata": {},
   "outputs": [],
   "source": [
    "# 101. HandsOn: Deploy a Streamlit Web APP in Snowflake"
   ]
  },
  {
   "cell_type": "code",
   "execution_count": null,
   "metadata": {},
   "outputs": [],
   "source": [
    "# Deploy some Streamlit application\n",
    "# create database streamlit_app\n",
    "'''\n",
    " - StreamlitApps\n",
    " - Create => Create StreamLit App\n",
    " - App Title: myapp\n",
    " - App Location: streamlit_app\n",
    " - App Warehouse: COMPUTE_WH\n",
    " - Create\n",
    "'''"
   ]
  }
 ],
 "metadata": {
  "kernelspec": {
   "display_name": "myenv",
   "language": "python",
   "name": "python3"
  },
  "language_info": {
   "codemirror_mode": {
    "name": "ipython",
    "version": 3
   },
   "file_extension": ".py",
   "mimetype": "text/x-python",
   "name": "python",
   "nbconvert_exporter": "python",
   "pygments_lexer": "ipython3",
   "version": "3.9.12"
  }
 },
 "nbformat": 4,
 "nbformat_minor": 2
}
