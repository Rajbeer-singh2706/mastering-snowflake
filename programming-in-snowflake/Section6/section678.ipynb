{
 "cells": [
  {
   "cell_type": "code",
   "execution_count": 1,
   "metadata": {},
   "outputs": [],
   "source": [
    "# Section 6: Stored Procedures and REcursive SQL \n",
    "# Section 7: SQL and Snowflake Scripting \n",
    "# Section 8: Snowflake Data Pipelines "
   ]
  },
  {
   "cell_type": "code",
   "execution_count": 2,
   "metadata": {},
   "outputs": [
    {
     "data": {
      "text/plain": [
       "'\\n * Querying Hierarchical Data in SQL \\n * Views \\n * Stored Procedures\\n * JavaScript Stored PRocedures API \\n * User_DEfined Finction(UDFS)\\n  * User_DEfined Table Finction(UDTS)\\n'"
      ]
     },
     "execution_count": 2,
     "metadata": {},
     "output_type": "execute_result"
    }
   ],
   "source": [
    "# 35. Intro \n",
    "'''\n",
    " * Querying Hierarchical Data in SQL \n",
    " * Views \n",
    " * Stored Procedures\n",
    " * JavaScript Stored PRocedures API \n",
    " * User_DEfined Finction(UDFS)\n",
    "  * User_DEfined Table Finction(UDTS)\n",
    "'''"
   ]
  },
  {
   "cell_type": "code",
   "execution_count": null,
   "metadata": {},
   "outputs": [],
   "source": [
    "# 36. Hands ON : Prepare Hierarchical Data\n",
    "# 37. Hands ON : Query Hierarchical data with JOINS\n",
    "# 38. Hands ON : Query Hierarchical data with Recursive"
   ]
  }
 ],
 "metadata": {
  "kernelspec": {
   "display_name": "myenv",
   "language": "python",
   "name": "python3"
  },
  "language_info": {
   "codemirror_mode": {
    "name": "ipython",
    "version": 3
   },
   "file_extension": ".py",
   "mimetype": "text/x-python",
   "name": "python",
   "nbconvert_exporter": "python",
   "pygments_lexer": "ipython3",
   "version": "3.9.12"
  }
 },
 "nbformat": 4,
 "nbformat_minor": 2
}
