{
 "cells": [
  {
   "cell_type": "code",
   "execution_count": 1,
   "metadata": {},
   "outputs": [],
   "source": [
    "# 15. Hands on: Create Query Context\n",
    "'''\n",
    " show databases;\n",
    "use schema snowflake_sample_data.tpcds_sf10tcl;\n",
    "\n",
    "select count(*) from cataog_sales;\n",
    "select count(*) from customer;\n",
    "\n",
    "\n",
    "use schema snowflake_sample_data.tpch_sf1000;\n",
    "select count(*) from nation;\n",
    "select count(*) from snowflake_sample_data.tpch_sf1000.nation;\n",
    "\n",
    "create database employees;\n",
    "create table ttt(v variant);\n",
    "create database if not exists employees;\n",
    "\n",
    "\n",
    "show databases;\n",
    "describe database employees;\n",
    "drop databse employees;\n",
    "\n",
    "'''"
   ]
  },
  {
   "cell_type": "code",
   "execution_count": 1,
   "metadata": {},
   "outputs": [
    {
     "data": {
      "text/plain": [
       "\"\\ncreate database employees;\\ncreate stage mystage \\n# upload the file manully , => Data => Database => Stage => mystage =>from local upload the file\\nlist @mystage;\\n\\n\\n### \\nselect metadata$file_row_number, $1,$2 FROM @mystage/emp.csv;\\nselect infer_schema(\\n  location => '@mystage'\\n);\\n\\n\\n\""
      ]
     },
     "execution_count": 1,
     "metadata": {},
     "output_type": "execute_result"
    }
   ],
   "source": [
    "#16. Hands ON: INfer schema from staged CSV Files \n",
    "'''\n",
    "create database employees;\n",
    "create stage mystage \n",
    "# upload the file manully , => Data => Database => Stage => mystage =>from local upload the file\n",
    "list @mystage;\n",
    "\n",
    "\n",
    "### \n",
    "select metadata$file_row_number, $1,$2 FROM @mystage/emp.csv;\n",
    "select infer_schema(\n",
    "  location => '@mystage'\n",
    ");\n",
    "\n",
    "\n",
    "'''\n",
    "\n",
    "# Stages \n",
    " # Internal stage\n",
    " # Extranl Stage [ BLob storage -> S3/AZURE]\n",
    "\n",
    "\n",
    "\n"
   ]
  },
  {
   "cell_type": "code",
   "execution_count": 2,
   "metadata": {},
   "outputs": [
    {
     "data": {
      "text/plain": [
       "'\\n1. Role \\n2. Warehouse\\n3. Databse \\n4. Schema \\n'"
      ]
     },
     "execution_count": 2,
     "metadata": {},
     "output_type": "execute_result"
    }
   ],
   "source": [
    "# Query Context \n",
    "'''\n",
    "1. Role \n",
    "2. Warehouse\n",
    "3. Databse \n",
    "4. Schema \n",
    "'''"
   ]
  },
  {
   "cell_type": "code",
   "execution_count": null,
   "metadata": {},
   "outputs": [],
   "source": [
    "# Internal vs external Stage \n",
    "'''\n",
    "\n",
    "'''"
   ]
  }
 ],
 "metadata": {
  "kernelspec": {
   "display_name": "myenv",
   "language": "python",
   "name": "python3"
  },
  "language_info": {
   "codemirror_mode": {
    "name": "ipython",
    "version": 3
   },
   "file_extension": ".py",
   "mimetype": "text/x-python",
   "name": "python",
   "nbconvert_exporter": "python",
   "pygments_lexer": "ipython3",
   "version": "3.9.12"
  }
 },
 "nbformat": 4,
 "nbformat_minor": 2
}
